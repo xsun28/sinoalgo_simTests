{
 "cells": [
  {
   "cell_type": "code",
   "execution_count": 14,
   "id": "5d929baa",
   "metadata": {},
   "outputs": [],
   "source": [
    "import re\n",
    "import pandas as pd\n",
    "import math\n",
    "import pandas as pd\n",
    "\n",
    "pd.set_option('display.max_columns', None)\n",
    "pd.set_option('display.max_rows', None)\n",
    "\n",
    "morning_end = (11 * 3600 + 30 * 60) * 1000000\n",
    "afternoon_start = (13 * 3600) * 1000000\n",
    "close_start = (14 * 3600 + 57 * 60) * 1000000\n",
    "afternoon_end = (15 * 3600) * 1000000\n",
    "\n",
    "\n",
    "def read_log_file(file_path):\n",
    "    logfile = open(file_path, encoding=\"utf8\", errors='ignore')\n",
    "    txt = logfile.read()\n",
    "    logfile.close()\n",
    "    return txt  # return str\n",
    "\n",
    "\n",
    "def get_po_info(log, po):\n",
    "    # conditions to get doClose information of po:\n",
    "    condPO = r'Added parent order.*'  # AddPO line\n",
    "    condPO_doClose = r'(?<=doClose=).'  # match the Parent Order doClose value\n",
    "    condPO_id = r'.*orderId=' + po + '.*'  # conditions to get doClose information of po:\n",
    "    condPO_size = r'(?<=size=)\\d*'\n",
    "    condPO_symbol = r'(?<=symbol=)\\d*'\n",
    "    doClose = get_specific_values(log, condPO, condPO_doClose, condPO_id)[0]\n",
    "    parentSize = int(get_specific_values(log, condPO, condPO_size, condPO_id)[0])\n",
    "    symbol = get_specific_values(log,condPO,condPO_symbol,condPO_id)[0]\n",
    "    return doClose, parentSize,symbol\n",
    "\n",
    "\n",
    "def get_specific_lines(log, lines_cond, PO_cond):\n",
    "    pattern = re.compile(lines_cond)\n",
    "    data = pattern.findall(log)\n",
    "\n",
    "    pattern_po = re.compile(PO_cond)\n",
    "    lines = []\n",
    "    for line in data:\n",
    "        if pattern_po.findall(line):\n",
    "            lines.append(line)\n",
    "    #     print(values)\n",
    "    return lines\n",
    "\n",
    "\n",
    "def get_specific_values(log, lines_cond, values_cond, PO_cond):\n",
    "    data = get_specific_lines(log, lines_cond, PO_cond)\n",
    "    pattern_value = re.compile(values_cond)\n",
    "    values = []\n",
    "    for line in data:\n",
    "        value = pattern_value.findall(line)[0]\n",
    "        values.append(value)\n",
    "    #     print(values)\n",
    "    return values\n",
    "\n",
    "\n",
    "def get_value_in_line(line, value_cond):\n",
    "    pattern_value = re.compile(value_cond)\n",
    "    value = pattern_value.findall(line)[0]\n",
    "    return value\n",
    "\n",
    "\n",
    "def get_child_orders(log, po):\n",
    "    # get all create orders information\n",
    "    cond_create_msg = r'OMS message.*OMS tries to create order'\n",
    "    cond_msg_po = r'.*parentOrderId=' + po + '.*'\n",
    "    cond_msg_time = r'(?<=current_t=)\\d*'\n",
    "    cond_msg_order_id = r'(?<=orderId=)\\d*'\n",
    "    cond_msg_order_size = r'(?<=size=)\\d*'\n",
    "    cond_msg_order_type = r'(?<=orderType=)\\w*'\n",
    "    create_time = list(map(int, get_specific_values(log, cond_create_msg, cond_msg_time, cond_msg_po)))\n",
    "    create_id = get_specific_values(log, cond_create_msg, cond_msg_order_id, cond_msg_po)\n",
    "    create_size = list(map(int, get_specific_values(log, cond_create_msg, cond_msg_order_size, cond_msg_po)))\n",
    "    create_type = get_specific_values(log, cond_create_msg, cond_msg_order_type, cond_msg_po)\n",
    "\n",
    "    create = list(zip(create_time, create_size, create_type))\n",
    "    orders = pd.DataFrame(create, index=create_id, columns=['time', 'create_size', 'type'])\n",
    "\n",
    "    return orders\n",
    "\n",
    "\n",
    "def get_fill_size(log, orders):\n",
    "    condFillMsg = r'addMsgFromVenue: OrderFillMessage.*'  # filledSize lines, match the chars behind 'algo status'\n",
    "    condFillMsg_value = r'(?<=size=)\\d*'  # filledSize value, match the number behind 'size='\n",
    "    condFillMsg_oid = r'(?<=orderId=)\\d*'\n",
    "    condFillTime = r'(?<=timestamp=)\\d*'\n",
    "\n",
    "    filled_s = list(map(int, get_specific_values(log, condFillMsg, condFillMsg_value, r'')))\n",
    "    filled_oid = get_specific_values(log, condFillMsg, condFillMsg_oid, r'')\n",
    "    filled_time = list(map(int, get_specific_values(log, condFillMsg, condFillTime, r'')))\n",
    "    create_id = list(orders.index)\n",
    "    orders.insert(orders.shape[1], 'filled', 0)\n",
    "    fill = list(zip(filled_oid, filled_s, filled_time))\n",
    "    fill_info = pd.DataFrame(fill, columns=['oid', 'size', 'time'])\n",
    "\n",
    "    for oid, fills, fillt in zip(filled_oid, filled_s, filled_time):\n",
    "        if oid in create_id:\n",
    "            orders.loc[[oid], ['filled']] += fills\n",
    "    this_po_fill = fill_info[fill_info['oid'].isin(create_id)]\n",
    "    return orders, this_po_fill\n",
    "\n",
    "\n",
    "def get_cancel_msg(log, po):\n",
    "    # conditions to get order cancel time of po:\n",
    "    condCancelMsg = r'OMS message.*OMS tries to cancel order'\n",
    "    condMsg_time = r'(?<=timestamp=)\\d*'\n",
    "    condMsg_order_id = r'(?<=orderId=)\\d*'\n",
    "    condMsg_PO = r'.*parentOrderId=' + po + '.*'\n",
    "    cancel_time = list(map(int, get_specific_values(log, condCancelMsg, condMsg_time, condMsg_PO)))\n",
    "    cancel_id = list(map(int, get_specific_values(log, condCancelMsg, condMsg_order_id, condMsg_PO)))\n",
    "    cancel_info = pd.DataFrame(list(zip(cancel_id, cancel_time)), columns=['oid', 'time'])\n",
    "    return cancel_info\n",
    "\n",
    "def get_stopped_time(log, po):\n",
    "    cond_stopped = r'AGS action.*removePO.*'\n",
    "    cond_POid = r'.*POId=' + po\n",
    "    cond_stoppedTime = r'(?<=current_t=)\\d*'\n",
    "    stopped_time = int(get_specific_values(log,cond_stopped,cond_stoppedTime,cond_POid)[0])\n",
    "    return stopped_time\n",
    "    "
   ]
  },
  {
   "cell_type": "markdown",
   "id": "0fd736b7",
   "metadata": {},
   "source": [
    "## Test Case 1: Order completion\n",
    "#### Description\n",
    "The test case is for checking if the parent order in completed within the specified trading period."
   ]
  },
  {
   "cell_type": "code",
   "execution_count": 42,
   "id": "4e195cdf",
   "metadata": {},
   "outputs": [],
   "source": [
    "def check_order_completion(file_path, po):\n",
    "    log = read_log_file(file_path)\n",
    "    doClose, parentSize, symbol = get_po_info(log, po)\n",
    "    star = symbol[0:3] == '688'\n",
    "    \n",
    "    orders = get_child_orders(log, po)\n",
    "    orders, fill = get_fill_size(log, orders)\n",
    "    # get supposedly filled size\n",
    "    supposed_filled = parentSize\n",
    "    # get actually filled size\n",
    "    regular_filled = sum(fill.loc[fill['time'] <= close_start]['size'])\n",
    "    close_filled = sum(fill.loc[fill['time'] > close_start]['size'])\n",
    "#     print(\"regular_filled=%d, close_filled=%d, regular_filled+close_filled=%d\"%(regular_filled,close_filled,regular_filled+close_filled))\n",
    "    if star:\n",
    "        regular_filled = (math.ceil(int(regular_filled) / 200.0)) * 200\n",
    "    else:\n",
    "        regular_filled = (math.ceil(int(regular_filled) / 100.0)) * 100\n",
    "    all_filled = (regular_filled + int(close_filled)) == supposed_filled\n",
    "    print(regular_filled)\n",
    "    return all_filled"
   ]
  },
  {
   "cell_type": "code",
   "execution_count": 61,
   "id": "833e48b5",
   "metadata": {
    "scrolled": false
   },
   "outputs": [
    {
     "data": {
      "text/plain": [
       "True"
      ]
     },
     "execution_count": 61,
     "metadata": {},
     "output_type": "execute_result"
    }
   ],
   "source": [
    "# Mainboard \n",
    "check_order_completion('/home/xhu/log/testfill.txt','10000')"
   ]
  },
  {
   "cell_type": "code",
   "execution_count": 43,
   "id": "05a940d8",
   "metadata": {},
   "outputs": [
    {
     "name": "stdout",
     "output_type": "stream",
     "text": [
      "999900\n"
     ]
    },
    {
     "data": {
      "text/plain": [
       "False"
      ]
     },
     "execution_count": 43,
     "metadata": {},
     "output_type": "execute_result"
    }
   ],
   "source": [
    "# Small and Medium Enterprises (SME) Board 002024.XSHE\n",
    "check_order_completion('/home/xhu/log/test_SMEmarket.log','10000')"
   ]
  },
  {
   "cell_type": "code",
   "execution_count": 39,
   "id": "1386effe",
   "metadata": {},
   "outputs": [
    {
     "data": {
      "text/plain": [
       "True"
      ]
     },
     "execution_count": 39,
     "metadata": {},
     "output_type": "execute_result"
    }
   ],
   "source": [
    "# Growth Enterprise Market (GEM) 300059.XSHE\n",
    "check_order_completion('/home/xhu/log/test_GEMmarket.log','10000')"
   ]
  },
  {
   "cell_type": "code",
   "execution_count": 72,
   "id": "4612f887",
   "metadata": {
    "scrolled": true
   },
   "outputs": [
    {
     "data": {
      "text/plain": [
       "True"
      ]
     },
     "execution_count": 72,
     "metadata": {},
     "output_type": "execute_result"
    }
   ],
   "source": [
    "# Sci-Tech Innovation Board (STAR) 688001.XSHG\n",
    "check_order_completion('/home/xhu/log/testSTAR0919.log','10000')"
   ]
  },
  {
   "cell_type": "code",
   "execution_count": 53,
   "id": "7d322038",
   "metadata": {
    "scrolled": true
   },
   "outputs": [
    {
     "name": "stdout",
     "output_type": "stream",
     "text": [
      "regular_filled=94784, close_filled=3400, regular_filled+close_filled=98184\n"
     ]
    },
    {
     "data": {
      "text/plain": [
       "False"
      ]
     },
     "execution_count": 53,
     "metadata": {},
     "output_type": "execute_result"
    }
   ],
   "source": [
    "# This is about close auction, not considered now\n",
    "check_order_completion('/home/xhu/log/testclose688001.log','10000')"
   ]
  },
  {
   "cell_type": "markdown",
   "id": "5c462356",
   "metadata": {},
   "source": [
    "## Test case 2: Order placement during noon break\n",
    "#### Description\n",
    "The test case is to check whether the system is still creating or cancelling orders after morning session end\n",
    "\n",
    "The case is split into four sub-cases:\n",
    "\n",
    "1. End time between 11:30 and 13:00\n",
    "2. End time after 13:00"
   ]
  },
  {
   "cell_type": "code",
   "execution_count": 26,
   "id": "29a74f03",
   "metadata": {},
   "outputs": [],
   "source": [
    "def check_noon_break(file_path, po):\n",
    "    log = read_log_file(file_path)\n",
    "    # get all create and cancel order time\n",
    "    orders = get_child_orders(log, po)\n",
    "    cancel_msg = get_cancel_msg(log, po)\n",
    "    # check during afternoon break\n",
    "    break_create = any((time > morning_end) & (time < afternoon_start) for time in list(orders['time']))\n",
    "    break_cancel = any((time > morning_end) & (time < afternoon_start) for time in list(cancel_msg['time']))\n",
    "    break_placement = break_create | break_cancel\n",
    "    return not break_placement"
   ]
  },
  {
   "cell_type": "code",
   "execution_count": 5,
   "id": "413b812b",
   "metadata": {
    "scrolled": false
   },
   "outputs": [
    {
     "data": {
      "text/plain": [
       "True"
      ]
     },
     "execution_count": 5,
     "metadata": {},
     "output_type": "execute_result"
    }
   ],
   "source": [
    "# Mainboard\n",
    "check_noon_break('/home/xhu/log/testclose0917.txt','10000')"
   ]
  },
  {
   "cell_type": "code",
   "execution_count": 52,
   "id": "fe17b98d",
   "metadata": {},
   "outputs": [
    {
     "data": {
      "text/plain": [
       "True"
      ]
     },
     "execution_count": 52,
     "metadata": {},
     "output_type": "execute_result"
    }
   ],
   "source": [
    "# Small and Medium Enterprises (SME) Board 002024.XSHE\n",
    "check_noon_break('/home/xhu/log/test_SMEmarket.log','10000')"
   ]
  },
  {
   "cell_type": "code",
   "execution_count": 34,
   "id": "64238d8b",
   "metadata": {},
   "outputs": [
    {
     "data": {
      "text/plain": [
       "True"
      ]
     },
     "execution_count": 34,
     "metadata": {},
     "output_type": "execute_result"
    }
   ],
   "source": [
    "# Growth Enterprise Market (GEM) 300059.XSHE\n",
    "check_noon_break('/home/xhu/log/test_GEMmarket.log','10000')"
   ]
  },
  {
   "cell_type": "code",
   "execution_count": 53,
   "id": "4d31a29f",
   "metadata": {},
   "outputs": [
    {
     "data": {
      "text/plain": [
       "True"
      ]
     },
     "execution_count": 53,
     "metadata": {},
     "output_type": "execute_result"
    }
   ],
   "source": [
    "# STAR market\n",
    "check_noon_break('/home/xhu/log/testSTAR0919.log','10000')"
   ]
  },
  {
   "cell_type": "markdown",
   "id": "07c989d2",
   "metadata": {},
   "source": [
    "## Test case 3: Order placement after close auction start\n",
    "#### Description\n",
    "The test case is to check if the system is still cancelling orders when close auction start, or creating orders after session end, and to check whether all the partially filled orders would be left into close auction\n",
    "\n",
    "The case is split into four sub-cases:\n",
    "\n",
    "1. End time after 15:00 and not participate in close auction\n",
    "2. End time after 15:00 and participate in close auction\n",
    "3. End time between 14:57 and 15:00, cancel orders before 14:57\n",
    "\n",
    "#### This is about close auction, not considered now"
   ]
  },
  {
   "cell_type": "code",
   "execution_count": 57,
   "id": "8d2bd938",
   "metadata": {},
   "outputs": [],
   "source": [
    "# This is about close auction, not considered now\n",
    "def check_after_close(file_path, po):\n",
    "    log = read_log_file(file_path)\n",
    "    sop_id = 2 * int(po[-1]) + 1\n",
    "    doClose, parentSize, symbol= get_po_info(log, po)\n",
    "    # get all create orders information\n",
    "    orders = get_child_orders(log, po)\n",
    "    cancels = get_cancel_msg(log, po)\n",
    "\n",
    "    # check during afternoon break\n",
    "    if doClose == 'f':\n",
    "        endTime = close_start\n",
    "    else:\n",
    "        endTime = afternoon_end\n",
    "    afterEnd_create = any(time > endTime for time in list(orders['time']))\n",
    "    afterEnd_cancel = any(time > close_start for time in list(cancels['time']))\n",
    "    afterEnd_placement = afterEnd_cancel | afterEnd_create\n",
    "\n",
    "    # get all filled size\n",
    "    orders, fill_info = get_fill_size(log, orders)\n",
    "    filled_size_before_close = sum(fill_info.loc[fill_info['time'] <= close_start]['size'])\n",
    "    filled_size_after_close = sum(fill_info.loc[fill_info['time'] > close_start]['size'])\n",
    "    \n",
    "    # get total active size\n",
    "    condActiveSize = r'.*totalActiveSize.*'\n",
    "    condActiveValue = r'(?<=totalActiveSize=)\\d*'\n",
    "    condSOP_id = r'SOP ' + str(sop_id) + '.*'\n",
    "    cond_time = r'(?<=time=)\\d*'\n",
    "    totalActive = list(map(int, get_specific_values(log, condActiveSize, condActiveValue, condSOP_id)))\n",
    "    totalActiveTime = list(map(int, get_specific_values(log, condActiveSize, cond_time, condSOP_id)))\n",
    "    \n",
    "    # get total cancel pending size\n",
    "    condCancelPSize = r'.*totalCancelPendingSize.*'\n",
    "    condCancelPValue = r'(?<=totalCancelPendingSize=)\\d*'\n",
    "    totalCancelP = list(map(int, get_specific_values(log, condCancelPSize, condCancelPValue, condSOP_id)))\n",
    "    totalCancelPTime = list(map(int, get_specific_values(log, condCancelPSize, cond_time, condSOP_id)))\n",
    "    for active, time in zip(totalActive, totalActiveTime):\n",
    "        if time <= close_start:\n",
    "            lastActive_before_close = active\n",
    "\n",
    "    firstCancelP_after_close = 0\n",
    "    for canp, time in zip(totalCancelP, totalCancelPTime):\n",
    "        if time > close_start:\n",
    "            firstCancelP_after_close = canp\n",
    "    if doClose == 'f':\n",
    "        # Do not explicitily allucate close size, but can participate in close auction when regular size parcially filled\n",
    "        # The last active size before close plus the filled size should equals to parent order size\n",
    "        close_placement = (lastActive_before_close + filled_size_before_close == parentSize)\n",
    "    else:\n",
    "        # Allocate the close size at the start time, unfilled regular size can participate in close auction\n",
    "        # The last active size before close plus the filled size and the close size should equals to Parent order size\n",
    "        close = orders.loc[(orders['type'] == 'Close')|(orders['type'] == 'CLOSE')]\n",
    "        closeSize = sum(close['create_size'])\n",
    "        print(lastActive_before_close,filled_size_before_close,closeSize,lastActive_before_close+filled_size_before_close+closeSize)\n",
    "        close_placement = ((math.ceil(\n",
    "            int(lastActive_before_close + filled_size_before_close) / 100.0)) * 100 + closeSize == parentSize)\n",
    "        print(afterEnd_create,afterEnd_cancel)\n",
    "    return (not afterEnd_placement) & close_placement"
   ]
  },
  {
   "cell_type": "code",
   "execution_count": 56,
   "id": "ebe91418",
   "metadata": {},
   "outputs": [
    {
     "data": {
      "text/plain": [
       "True"
      ]
     },
     "execution_count": 56,
     "metadata": {},
     "output_type": "execute_result"
    }
   ],
   "source": [
    "# doClose = true\n",
    "check_after_close('/home/xhu/log/testclose0917.txt','10001')"
   ]
  },
  {
   "cell_type": "code",
   "execution_count": 9,
   "id": "ddce5937",
   "metadata": {
    "scrolled": true
   },
   "outputs": [
    {
     "data": {
      "text/plain": [
       "True"
      ]
     },
     "execution_count": 9,
     "metadata": {},
     "output_type": "execute_result"
    }
   ],
   "source": [
    "# doClose = false\n",
    "check_after_close('/home/xhu/log/testclose0916.txt','10000')"
   ]
  },
  {
   "cell_type": "code",
   "execution_count": 26,
   "id": "0ae1dc48",
   "metadata": {
    "scrolled": true
   },
   "outputs": [
    {
     "name": "stdout",
     "output_type": "stream",
     "text": [
      "3400 94845 1700 99945\n",
      "True True\n"
     ]
    },
    {
     "data": {
      "text/plain": [
       "False"
      ]
     },
     "execution_count": 26,
     "metadata": {},
     "output_type": "execute_result"
    }
   ],
   "source": [
    "# STAR market, doClose = true, endTime = 1510\n",
    "check_after_close('/home/xhu/log/testclose688001.1510.log','10000')"
   ]
  },
  {
   "cell_type": "markdown",
   "id": "795fd71a",
   "metadata": {},
   "source": [
    "## Test case 4: Order placement\n",
    "### Description\n",
    "The test is to check if the child order placement meets the order lot conditions, this case is devided into three sub-cases:\n",
    "1. STAR market stocks, whose order lot is 200\n",
    "2. mainboard and other second board stocks, whose order lot is 100"
   ]
  },
  {
   "cell_type": "code",
   "execution_count": 45,
   "id": "1f4e29fb",
   "metadata": {},
   "outputs": [],
   "source": [
    "def check_order_lot(file_path, po):\n",
    "    log = read_log_file(file_path)\n",
    "    doClose, parentSize, symbol = get_po_info(log, po)\n",
    "    star = symbol[0:3] == '688'\n",
    "    child_orders = get_child_orders(log,po)\n",
    "    # check if the create size > 200\n",
    "    if star:\n",
    "        lot = 200\n",
    "    else:\n",
    "        lot = 100\n",
    "    size_lot = all((size>=lot) for size in list(child_orders['create_size']))\n",
    "    multiple_of_lot = all((size%lot == 0)for size in list(child_orders['create_size']))\n",
    "    return size_lot&multiple_of_lot"
   ]
  },
  {
   "cell_type": "code",
   "execution_count": 47,
   "id": "6a44777b",
   "metadata": {},
   "outputs": [
    {
     "data": {
      "text/plain": [
       "True"
      ]
     },
     "execution_count": 47,
     "metadata": {},
     "output_type": "execute_result"
    }
   ],
   "source": [
    "# Mainborad\n",
    "check_order_lot('/home/xhu/log/testfill.txt','10000')"
   ]
  },
  {
   "cell_type": "code",
   "execution_count": 51,
   "id": "6daf3df0",
   "metadata": {},
   "outputs": [
    {
     "data": {
      "text/plain": [
       "True"
      ]
     },
     "execution_count": 51,
     "metadata": {},
     "output_type": "execute_result"
    }
   ],
   "source": [
    "# Small and Medium Enterprises (SME) Board 002024.XSHE\n",
    "check_order_lot('/home/xhu/log/test_SMEmarket.log','10000')"
   ]
  },
  {
   "cell_type": "code",
   "execution_count": 50,
   "id": "b8f8aa2f",
   "metadata": {},
   "outputs": [
    {
     "data": {
      "text/plain": [
       "True"
      ]
     },
     "execution_count": 50,
     "metadata": {},
     "output_type": "execute_result"
    }
   ],
   "source": [
    "# Growth Enterprise Market (GEM) 300059.XSHE\n",
    "check_order_lot('/home/xhu/log/test_GEMmarket.log','10000')"
   ]
  },
  {
   "cell_type": "code",
   "execution_count": 46,
   "id": "2e575f37",
   "metadata": {},
   "outputs": [
    {
     "data": {
      "text/plain": [
       "True"
      ]
     },
     "execution_count": 46,
     "metadata": {},
     "output_type": "execute_result"
    }
   ],
   "source": [
    "# STAR market\n",
    "check_order_lot('/home/xhu/log/testSTAR0919.log','10000')"
   ]
  },
  {
   "cell_type": "markdown",
   "id": "6109a47f",
   "metadata": {},
   "source": [
    "## Test case 5: Stop of a quick completion\n",
    "### Description\n",
    "The test is to check if the strategy would stop quickly after a small order placement like 100 or 200 shares is completed"
   ]
  },
  {
   "cell_type": "code",
   "execution_count": 4,
   "id": "fdee2f41",
   "metadata": {},
   "outputs": [],
   "source": [
    "def check_quick_execution(file_path, po):\n",
    "    log = read_log_file(file_path)\n",
    "    cond_completed = r'.*Algo=VWAP,completed.*'\n",
    "    cond_completedTime =  r'(?<=current_t=)\\d*'\n",
    "    cond_PO = r'Order=' + po\n",
    "    complete_time = int(get_specific_values(log,cond_completed,cond_completedTime,cond_PO)[0])\n",
    "    stopped_time = get_stopped_time(log,po)\n",
    "    \n",
    "    # return an interval\n",
    "    interval = stopped_time - complete_time\n",
    "    return interval/1000000"
   ]
  },
  {
   "cell_type": "code",
   "execution_count": 6,
   "id": "5fb7ec5f",
   "metadata": {
    "scrolled": true
   },
   "outputs": [
    {
     "data": {
      "text/plain": [
       "9.0"
      ]
     },
     "execution_count": 6,
     "metadata": {},
     "output_type": "execute_result"
    }
   ],
   "source": [
    "# 200 shares\n",
    "check_quick_execution('/home/xhu/log/test_quickExecution.log','10000')"
   ]
  },
  {
   "cell_type": "code",
   "execution_count": 7,
   "id": "bd572632",
   "metadata": {},
   "outputs": [
    {
     "data": {
      "text/plain": [
       "5.0"
      ]
     },
     "execution_count": 7,
     "metadata": {},
     "output_type": "execute_result"
    }
   ],
   "source": [
    "# 100 shares\n",
    "check_quick_execution('/home/xhu/log/test_quickExecution.log','10001')"
   ]
  },
  {
   "cell_type": "markdown",
   "id": "d72cf350",
   "metadata": {},
   "source": [
    "## Test case 6: Stop of a large order\n",
    "#### Description\n",
    "The test is to check if a large order with a limit duration quickly stops after the parent order end time\n"
   ]
  },
  {
   "cell_type": "code",
   "execution_count": 8,
   "id": "aa03d1c5",
   "metadata": {},
   "outputs": [],
   "source": [
    "def check_large_stop(file_path, po):\n",
    "    log = read_log_file(file_path)\n",
    "    stopped_time = get_stopped_time(log,po)\n",
    "    \n",
    "    # get start end time of parent order\n",
    "    condPO = r'Added parent order.*'  # AddPO line\n",
    "    condPO_endtime = r'(?<=endTime=)\\d*'\n",
    "    condPO_id = r'.*orderId=' + po + '.*'  # conditions to get doClose information of po:\n",
    "    endTime = int(get_specific_values(log,condPO,condPO_endtime,condPO_id)[0])\n",
    "    \n",
    "    interval = stopped_time - endTime\n",
    "    return interval/1000000"
   ]
  },
  {
   "cell_type": "code",
   "execution_count": 9,
   "id": "c9ed5ad5",
   "metadata": {},
   "outputs": [
    {
     "data": {
      "text/plain": [
       "13.0"
      ]
     },
     "execution_count": 9,
     "metadata": {},
     "output_type": "execute_result"
    }
   ],
   "source": [
    "# Mainboard\n",
    "check_large_stop('/home/xhu/log/test_largeStop.log','10000')"
   ]
  },
  {
   "cell_type": "code",
   "execution_count": 44,
   "id": "35941bec",
   "metadata": {},
   "outputs": [
    {
     "data": {
      "text/plain": [
       "12.0"
      ]
     },
     "execution_count": 44,
     "metadata": {},
     "output_type": "execute_result"
    }
   ],
   "source": [
    "# Small and Medium Enterprises (SME) Board 002024.XSHE\n",
    "check_large_stop('/home/xhu/log/test_SMEmarket.log','10000')"
   ]
  },
  {
   "cell_type": "code",
   "execution_count": 40,
   "id": "4e58eccc",
   "metadata": {},
   "outputs": [
    {
     "data": {
      "text/plain": [
       "15.0"
      ]
     },
     "execution_count": 40,
     "metadata": {},
     "output_type": "execute_result"
    }
   ],
   "source": [
    "# Growth Enterprise Market (GEM) 300059.XSHE\n",
    "check_large_stop('/home/xhu/log/test_GEMmarket.log','10000')"
   ]
  },
  {
   "cell_type": "code",
   "execution_count": 10,
   "id": "4f3a33a0",
   "metadata": {},
   "outputs": [
    {
     "data": {
      "text/plain": [
       "19.0"
      ]
     },
     "execution_count": 10,
     "metadata": {},
     "output_type": "execute_result"
    }
   ],
   "source": [
    "# STAR market\n",
    "check_large_stop('/home/xhu/log/test_largeStop.log','10001')"
   ]
  },
  {
   "cell_type": "code",
   "execution_count": null,
   "id": "2b633335",
   "metadata": {},
   "outputs": [],
   "source": []
  }
 ],
 "metadata": {
  "kernelspec": {
   "display_name": "Python 3",
   "language": "python",
   "name": "python3"
  },
  "language_info": {
   "codemirror_mode": {
    "name": "ipython",
    "version": 3
   },
   "file_extension": ".py",
   "mimetype": "text/x-python",
   "name": "python",
   "nbconvert_exporter": "python",
   "pygments_lexer": "ipython3",
   "version": "3.7.9"
  }
 },
 "nbformat": 4,
 "nbformat_minor": 5
}
